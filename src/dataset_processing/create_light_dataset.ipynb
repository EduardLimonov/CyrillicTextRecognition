{
 "cells": [
  {
   "cell_type": "code",
   "execution_count": 25,
   "outputs": [],
   "source": [
    "import h5py\n",
    "import matplotlib.pyplot as plt\n",
    "import numpy as np\n",
    "import random\n",
    "from tqdm import tqdm\n",
    "from image_preprocessing.PicHandler import *\n",
    "import os\n",
    "import json"
   ],
   "metadata": {
    "collapsed": false,
    "pycharm": {
     "name": "#%%\n"
    }
   }
  },
  {
   "cell_type": "code",
   "execution_count": 7,
   "outputs": [],
   "source": [
    "dataset_path = 'D:\\\\projects\\\\datasets\\HKR\\\\20200923_Dataset_Words_Public\\\\'\n",
    "ann_path = dataset_path + 'ann'\n",
    "img_path = dataset_path + 'img'\n",
    "dataset_filename = '../../resources/dataset_light/dataset.hdf5'"
   ],
   "metadata": {
    "collapsed": false,
    "pycharm": {
     "name": "#%%\n"
    }
   }
  },
  {
   "cell_type": "code",
   "execution_count": 8,
   "outputs": [],
   "source": [
    "def read_json(ann_path_name: str) -> Tuple[str, str]:\n",
    "    # пара <расшифровка, имя файла>\n",
    "    with open(ann_path_name, 'rb') as file:\n",
    "        data = json.loads(file.readline())\n",
    "        return data[\"description\"], data[\"name\"]"
   ],
   "metadata": {
    "collapsed": false,
    "pycharm": {
     "name": "#%%\n"
    }
   }
  },
  {
   "cell_type": "code",
   "execution_count": 9,
   "outputs": [],
   "source": [
    "def show(img):\n",
    "    plt.imshow(img.astype(np.uint8))"
   ],
   "metadata": {
    "collapsed": false,
    "pycharm": {
     "name": "#%%\n"
    }
   }
  },
  {
   "cell_type": "code",
   "execution_count": 58,
   "outputs": [],
   "source": [
    "def pad(arr, new_shape):\n",
    "    vertical_pad = new_shape[0] - arr.shape[0]\n",
    "    horizontal_pad = new_shape[1] - arr.shape[1]\n",
    "    vert_add, hor_add = vertical_pad % 2, horizontal_pad % 2\n",
    "\n",
    "    return np.pad(arr, ((vertical_pad // 2, vertical_pad // 2 + vert_add),\n",
    "                        (horizontal_pad // 2, horizontal_pad // 2 + hor_add)),\n",
    "                  'constant', constant_values=(255, ))"
   ],
   "metadata": {
    "collapsed": false,
    "pycharm": {
     "name": "#%%\n"
    }
   }
  },
  {
   "cell_type": "code",
   "execution_count": 59,
   "outputs": [],
   "source": [
    "default_shape = (128, 1024)\n",
    "\n",
    "def create_dataset(n_samples):\n",
    "    images, labels = [], []\n",
    "    cnt = 0\n",
    "    files = random.sample(os.listdir(ann_path), n_samples)\n",
    "    for filename in tqdm(files):\n",
    "        word, img_name = read_json(ann_path + '\\\\' + filename)\n",
    "        ph = PicHandler(img_path + '\\\\' + img_name + '.jpg')\n",
    "        ph.apply_adaptive_bin_filter()\n",
    "\n",
    "        arr = ph.get_image()\n",
    "        if arr.shape[0] > default_shape[0]:\n",
    "            arr = resize(arr, (default_shape[0], int(arr.shape[1] * default_shape[0] / arr.shape[0])))\n",
    "        elif arr.shape[1] > default_shape[1]:\n",
    "            arr = resize(arr, (int(arr.shape[0] * default_shape[1] / arr.shape[1]), default_shape[1]))\n",
    "\n",
    "        images.append(pad(arr, default_shape))\n",
    "        labels.append(word)\n",
    "\n",
    "        cnt += 1\n",
    "\n",
    "    return images, labels"
   ],
   "metadata": {
    "collapsed": false,
    "pycharm": {
     "name": "#%%\n"
    }
   }
  },
  {
   "cell_type": "code",
   "execution_count": 60,
   "outputs": [
    {
     "name": "stderr",
     "output_type": "stream",
     "text": [
      "100%|██████████| 2000/2000 [03:27<00:00,  9.65it/s]\n"
     ]
    }
   ],
   "source": [
    "images, labels = create_dataset(2000)"
   ],
   "metadata": {
    "collapsed": false,
    "pycharm": {
     "name": "#%%\n"
    }
   }
  },
  {
   "cell_type": "code",
   "execution_count": 83,
   "outputs": [],
   "source": [
    "with h5py.File(dataset_filename, 'w') as f:\n",
    "    f.create_dataset('images', data=images, compression=\"gzip\", compression_opts=4)\n",
    "    f.create_dataset('labels', data=labels)"
   ],
   "metadata": {
    "collapsed": false,
    "pycharm": {
     "name": "#%%\n"
    }
   }
  },
  {
   "cell_type": "code",
   "execution_count": 81,
   "outputs": [
    {
     "data": {
      "text/plain": "dtype('uint8')"
     },
     "execution_count": 81,
     "metadata": {},
     "output_type": "execute_result"
    }
   ],
   "source": [
    "images[0].dtype"
   ],
   "metadata": {
    "collapsed": false,
    "pycharm": {
     "name": "#%%\n"
    }
   }
  },
  {
   "cell_type": "code",
   "execution_count": 84,
   "outputs": [
    {
     "name": "stdout",
     "output_type": "stream",
     "text": [
      "[[255. 255. 255. ... 255. 255. 255.]\n",
      " [255. 255. 255. ... 255. 255. 255.]\n",
      " [255. 255. 255. ... 255. 255. 255.]\n",
      " ...\n",
      " [255. 255. 255. ... 255. 255. 255.]\n",
      " [255. 255. 255. ... 255. 255. 255.]\n",
      " [255. 255. 255. ... 255. 255. 255.]]\n"
     ]
    }
   ],
   "source": [
    "with h5py.File(dataset_filename, 'r') as f:\n",
    "    data = f['images']\n",
    "    print(data[0])"
   ],
   "metadata": {
    "collapsed": false,
    "pycharm": {
     "name": "#%%\n"
    }
   }
  },
  {
   "cell_type": "code",
   "execution_count": null,
   "outputs": [],
   "source": [],
   "metadata": {
    "collapsed": false,
    "pycharm": {
     "name": "#%%\n"
    }
   }
  }
 ],
 "metadata": {
  "kernelspec": {
   "display_name": "Python 3",
   "language": "python",
   "name": "python3"
  },
  "language_info": {
   "codemirror_mode": {
    "name": "ipython",
    "version": 2
   },
   "file_extension": ".py",
   "mimetype": "text/x-python",
   "name": "python",
   "nbconvert_exporter": "python",
   "pygments_lexer": "ipython2",
   "version": "2.7.6"
  }
 },
 "nbformat": 4,
 "nbformat_minor": 0
}